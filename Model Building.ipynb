{
  "nbformat": 4,
  "nbformat_minor": 0,
  "metadata": {
    "colab": {
      "provenance": [],
      "collapsed_sections": []
    },
    "kernelspec": {
      "name": "python3",
      "display_name": "Python 3"
    },
    "language_info": {
      "name": "python"
    }
  },
  "cells": [
    {
      "cell_type": "code",
      "source": [
        "import keras\n",
        "from keras.preprocessing.image import ImageDataGenerator"
      ],
      "metadata": {
        "id": "QJxIVFUldobg"
      },
      "execution_count": 1,
      "outputs": []
    },
    {
      "cell_type": "code",
      "source": [
        "train_datagen=ImageDataGenerator(rescale=1.255,\n",
        "                                 shear_range=0.2,\n",
        "                                 rotation_range=180,\n",
        "                                 zoom_range=0.2,\n",
        "                                 horizontal_flip=True)\n",
        "\n",
        "test_datagen=ImageDataGenerator(rescale=1./255)"
      ],
      "metadata": {
        "id": "l7UFawuM1wKy"
      },
      "execution_count": 2,
      "outputs": []
    },
    {
      "cell_type": "code",
      "source": [
        "x_train=train_datagen.flow_from_directory(r'/content/drive/MyDrive/Dataset/train_set',\n",
        "                                          target_size=(64,64),\n",
        "                                          batch_size=32,\n",
        "                                          class_mode='categorical')"
      ],
      "metadata": {
        "colab": {
          "base_uri": "https://localhost:8080/"
        },
        "id": "wGQcMqyh2ZxW",
        "outputId": "0283e0f5-572a-4103-e84a-c7820d30a542"
      },
      "execution_count": 3,
      "outputs": [
        {
          "output_type": "stream",
          "name": "stdout",
          "text": [
            "Found 436 images belonging to 2 classes.\n"
          ]
        }
      ]
    },
    {
      "cell_type": "code",
      "source": [
        "x_test=test_datagen.flow_from_directory(r'/content/drive/MyDrive/Dataset/test_set',\n",
        "                                          target_size=(64,64),\n",
        "                                          batch_size=32,\n",
        "                                          class_mode='categorical')"
      ],
      "metadata": {
        "colab": {
          "base_uri": "https://localhost:8080/"
        },
        "id": "DdB2pnth5lK_",
        "outputId": "91589788-4259-49f6-f833-d63e5c889ab1"
      },
      "execution_count": 4,
      "outputs": [
        {
          "output_type": "stream",
          "name": "stdout",
          "text": [
            "Found 121 images belonging to 2 classes.\n"
          ]
        }
      ]
    },
    {
      "cell_type": "markdown",
      "source": [
        "Model Building\n"
      ],
      "metadata": {
        "id": "r6Xbxq5-7Vt6"
      }
    },
    {
      "cell_type": "code",
      "source": [
        "from tensorflow.keras.models import Sequential\n",
        "from tensorflow.keras.layers import Convolution2D,MaxPooling2D,Flatten,Dense"
      ],
      "metadata": {
        "id": "tY3C8VQb9eMb"
      },
      "execution_count": 5,
      "outputs": []
    },
    {
      "cell_type": "code",
      "source": [
        "model = Sequential()"
      ],
      "metadata": {
        "id": "FUPiRvBR9r4_"
      },
      "execution_count": 6,
      "outputs": []
    },
    {
      "cell_type": "code",
      "source": [
        "model.add(Convolution2D(32,(3,3),activation = \"relu\",input_shape = (64,64,3)))"
      ],
      "metadata": {
        "id": "AGHw9ins9vJx"
      },
      "execution_count": 7,
      "outputs": []
    },
    {
      "cell_type": "code",
      "source": [
        "model.add(MaxPooling2D(pool_size = (2,2)))"
      ],
      "metadata": {
        "id": "eD6zhqTT9x5-"
      },
      "execution_count": 8,
      "outputs": []
    },
    {
      "cell_type": "code",
      "source": [
        "model.add(Flatten())"
      ],
      "metadata": {
        "id": "oJ-T5WCJ90-F"
      },
      "execution_count": 9,
      "outputs": []
    },
    {
      "cell_type": "code",
      "source": [
        "model.add(Dense(300, activation='relu'))"
      ],
      "metadata": {
        "id": "R_BCLASY937L"
      },
      "execution_count": 10,
      "outputs": []
    },
    {
      "cell_type": "code",
      "source": [
        "model.add(Dense(300, activation='relu'))"
      ],
      "metadata": {
        "id": "EOMHYpRT98k9"
      },
      "execution_count": 11,
      "outputs": []
    },
    {
      "cell_type": "code",
      "source": [
        "model.add(Dense(2, activation=\"softmax\"))"
      ],
      "metadata": {
        "id": "78H0K6EY-Iea"
      },
      "execution_count": 12,
      "outputs": []
    },
    {
      "cell_type": "code",
      "source": [
        "model.compile(loss=\"categorical_crossentropy\", metrics=[\"accuracy\"], optimizer='adam')"
      ],
      "metadata": {
        "id": "2vlk6Jm--MGK"
      },
      "execution_count": 13,
      "outputs": []
    },
    {
      "cell_type": "code",
      "source": [
        "len(x_train)"
      ],
      "metadata": {
        "colab": {
          "base_uri": "https://localhost:8080/"
        },
        "id": "UHpXK7PZ-Pyg",
        "outputId": "bd45c7a0-dc87-41ca-8917-5f1e7d993607"
      },
      "execution_count": 23,
      "outputs": [
        {
          "output_type": "execute_result",
          "data": {
            "text/plain": [
              "14"
            ]
          },
          "metadata": {},
          "execution_count": 23
        }
      ]
    },
    {
      "cell_type": "code",
      "source": [
        "model.fit(x_train, epochs=20, validation_data=x_test, steps_per_epoch=len(x_train), validation_steps=len(x_test))"
      ],
      "metadata": {
        "colab": {
          "base_uri": "https://localhost:8080/"
        },
        "id": "07XE69oqumjn",
        "outputId": "23ef54ae-f6f5-4b44-c98c-d9aea58ee433"
      },
      "execution_count": 27,
      "outputs": [
        {
          "output_type": "stream",
          "name": "stdout",
          "text": [
            "Epoch 1/20\n",
            "14/14 [==============================] - 24s 2s/step - loss: 0.0790 - accuracy: 0.9679 - val_loss: 0.6156 - val_accuracy: 0.5041\n",
            "Epoch 2/20\n",
            "14/14 [==============================] - 23s 2s/step - loss: 0.1069 - accuracy: 0.9679 - val_loss: 0.6055 - val_accuracy: 0.5124\n",
            "Epoch 3/20\n",
            "14/14 [==============================] - 22s 2s/step - loss: 0.1189 - accuracy: 0.9587 - val_loss: 0.6193 - val_accuracy: 0.4711\n",
            "Epoch 4/20\n",
            "14/14 [==============================] - 23s 2s/step - loss: 0.0886 - accuracy: 0.9610 - val_loss: 0.6099 - val_accuracy: 0.5537\n",
            "Epoch 5/20\n",
            "14/14 [==============================] - 22s 2s/step - loss: 0.0670 - accuracy: 0.9702 - val_loss: 0.6145 - val_accuracy: 0.4876\n",
            "Epoch 6/20\n",
            "14/14 [==============================] - 22s 2s/step - loss: 0.0754 - accuracy: 0.9748 - val_loss: 0.6077 - val_accuracy: 0.5785\n",
            "Epoch 7/20\n",
            "14/14 [==============================] - 21s 2s/step - loss: 0.0666 - accuracy: 0.9702 - val_loss: 0.6188 - val_accuracy: 0.5124\n",
            "Epoch 8/20\n",
            "14/14 [==============================] - 23s 2s/step - loss: 0.1109 - accuracy: 0.9679 - val_loss: 0.6154 - val_accuracy: 0.5207\n",
            "Epoch 9/20\n",
            "14/14 [==============================] - 22s 2s/step - loss: 0.0871 - accuracy: 0.9633 - val_loss: 0.6100 - val_accuracy: 0.5289\n",
            "Epoch 10/20\n",
            "14/14 [==============================] - 23s 2s/step - loss: 0.1000 - accuracy: 0.9748 - val_loss: 0.5834 - val_accuracy: 0.7273\n",
            "Epoch 11/20\n",
            "14/14 [==============================] - 22s 2s/step - loss: 0.0909 - accuracy: 0.9633 - val_loss: 0.5785 - val_accuracy: 0.7190\n",
            "Epoch 12/20\n",
            "14/14 [==============================] - 22s 2s/step - loss: 0.0734 - accuracy: 0.9725 - val_loss: 0.6121 - val_accuracy: 0.5372\n",
            "Epoch 13/20\n",
            "14/14 [==============================] - 22s 2s/step - loss: 0.0892 - accuracy: 0.9656 - val_loss: 0.6117 - val_accuracy: 0.5372\n",
            "Epoch 14/20\n",
            "14/14 [==============================] - 22s 2s/step - loss: 0.0911 - accuracy: 0.9587 - val_loss: 0.6137 - val_accuracy: 0.5537\n",
            "Epoch 15/20\n",
            "14/14 [==============================] - 23s 2s/step - loss: 0.0863 - accuracy: 0.9748 - val_loss: 0.6050 - val_accuracy: 0.5950\n",
            "Epoch 16/20\n",
            "14/14 [==============================] - 22s 2s/step - loss: 0.1109 - accuracy: 0.9587 - val_loss: 0.6139 - val_accuracy: 0.5289\n",
            "Epoch 17/20\n",
            "14/14 [==============================] - 22s 2s/step - loss: 0.0711 - accuracy: 0.9725 - val_loss: 0.5974 - val_accuracy: 0.5868\n",
            "Epoch 18/20\n",
            "14/14 [==============================] - 21s 2s/step - loss: 0.0955 - accuracy: 0.9656 - val_loss: 0.6076 - val_accuracy: 0.5455\n",
            "Epoch 19/20\n",
            "14/14 [==============================] - 22s 2s/step - loss: 0.0789 - accuracy: 0.9702 - val_loss: 0.6138 - val_accuracy: 0.5041\n",
            "Epoch 20/20\n",
            "14/14 [==============================] - 23s 2s/step - loss: 0.0973 - accuracy: 0.9748 - val_loss: 0.6002 - val_accuracy: 0.5702\n"
          ]
        },
        {
          "output_type": "execute_result",
          "data": {
            "text/plain": [
              "<keras.callbacks.History at 0x7f28bb81afd0>"
            ]
          },
          "metadata": {},
          "execution_count": 27
        }
      ]
    },
    {
      "cell_type": "code",
      "source": [
        "model.save(\"dataset001.h5\")"
      ],
      "metadata": {
        "id": "2iXe9_-evmzv"
      },
      "execution_count": 28,
      "outputs": []
    },
    {
      "cell_type": "code",
      "source": [],
      "metadata": {
        "id": "-oZ6yEPE0_vh"
      },
      "execution_count": null,
      "outputs": []
    }
  ]
}