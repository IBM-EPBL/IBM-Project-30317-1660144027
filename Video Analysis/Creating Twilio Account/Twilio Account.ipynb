{
 "cells": [
  {
   "cell_type": "markdown",
   "metadata": {
    "id": "QzVeBUfGwne-"
   },
   "source": [
    "#Twilio Account"
   ]
  },
  {
   "cell_type": "markdown",
   "metadata": {
    "id": "Q3k-FhR7xNhC"
   },
   "source": [
    "account_sid = 'AC557b4c7a685d072baa73125f61031af3'\n",
    "\n",
    "auth_token = 'a59cd5e5fdfddcc9ab008273557f8f78'\n",
    "\n",
    "client = Client(account_sid, auth_token)\n",
    "\n",
    "message = client.messages \\\n",
    "\n",
    "    .create(\n",
    "        \n",
    "         body='Forest fire is detected , stay alert',\n",
    "\n",
    "         from_='+14247991869',\n",
    "\n",
    "         to='+918940722793'\n",
    "         \n",
    "     )\n",
    "\n",
    "print(message.sid)"
   ]
  }
 ],
 "metadata": {
  "colab": {
   "provenance": []
  },
  "kernelspec": {
   "display_name": "Python 3 (ipykernel)",
   "language": "python",
   "name": "python3"
  },
  "language_info": {
   "codemirror_mode": {
    "name": "ipython",
    "version": 3
   },
   "file_extension": ".py",
   "mimetype": "text/x-python",
   "name": "python",
   "nbconvert_exporter": "python",
   "pygments_lexer": "ipython3",
   "version": "3.9.13"
  }
 },
 "nbformat": 4,
 "nbformat_minor": 1
}
