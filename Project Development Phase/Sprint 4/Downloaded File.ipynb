{
 "cells": [
  {
   "cell_type": "code",
   "execution_count": 1,
   "id": "41718947",
   "metadata": {},
   "outputs": [
    {
     "name": "stdout",
     "output_type": "stream",
     "text": [
      "Collecting ibm_watson_machine_learning\n",
      "  Downloading ibm_watson_machine_learning-1.0.257-py3-none-any.whl (1.8 MB)\n",
      "     ---------------------------------------- 1.8/1.8 MB 117.5 kB/s eta 0:00:00\n",
      "Requirement already satisfied: urllib3 in c:\\users\\my\\anaconda3\\lib\\site-packages (from ibm_watson_machine_learning) (1.26.11)\n",
      "Requirement already satisfied: tabulate in c:\\users\\my\\anaconda3\\lib\\site-packages (from ibm_watson_machine_learning) (0.8.10)\n",
      "Requirement already satisfied: certifi in c:\\users\\my\\anaconda3\\lib\\site-packages (from ibm_watson_machine_learning) (2022.9.14)\n",
      "Requirement already satisfied: requests in c:\\users\\my\\anaconda3\\lib\\site-packages (from ibm_watson_machine_learning) (2.28.1)\n",
      "Requirement already satisfied: pandas<1.5.0,>=0.24.2 in c:\\users\\my\\anaconda3\\lib\\site-packages (from ibm_watson_machine_learning) (1.4.4)\n",
      "Requirement already satisfied: importlib-metadata in c:\\users\\my\\anaconda3\\lib\\site-packages (from ibm_watson_machine_learning) (4.11.3)\n",
      "Collecting lomond\n",
      "  Downloading lomond-0.3.3-py2.py3-none-any.whl (35 kB)\n",
      "Requirement already satisfied: packaging in c:\\users\\my\\anaconda3\\lib\\site-packages (from ibm_watson_machine_learning) (21.3)\n",
      "Collecting ibm-cos-sdk==2.11.*\n",
      "  Downloading ibm-cos-sdk-2.11.0.tar.gz (53 kB)\n",
      "     --------------------------------------- 53.3/53.3 kB 46.7 kB/s eta 0:00:00\n",
      "  Preparing metadata (setup.py): started\n",
      "  Preparing metadata (setup.py): finished with status 'done'\n",
      "Collecting ibm-cos-sdk-core==2.11.0\n",
      "  Downloading ibm-cos-sdk-core-2.11.0.tar.gz (913 kB)\n",
      "     ------------------------------------ 913.9/913.9 kB 142.8 kB/s eta 0:00:00\n",
      "  Preparing metadata (setup.py): started\n",
      "  Preparing metadata (setup.py): finished with status 'done'\n",
      "Collecting ibm-cos-sdk-s3transfer==2.11.0\n",
      "  Downloading ibm-cos-sdk-s3transfer-2.11.0.tar.gz (135 kB)\n",
      "     ------------------------------------ 135.6/135.6 kB 205.8 kB/s eta 0:00:00\n",
      "  Preparing metadata (setup.py): started\n",
      "  Preparing metadata (setup.py): finished with status 'done'\n",
      "Requirement already satisfied: jmespath<1.0.0,>=0.7.1 in c:\\users\\my\\anaconda3\\lib\\site-packages (from ibm-cos-sdk==2.11.*->ibm_watson_machine_learning) (0.10.0)\n",
      "Requirement already satisfied: python-dateutil<3.0.0,>=2.1 in c:\\users\\my\\anaconda3\\lib\\site-packages (from ibm-cos-sdk-core==2.11.0->ibm-cos-sdk==2.11.*->ibm_watson_machine_learning) (2.8.2)\n",
      "Requirement already satisfied: pytz>=2020.1 in c:\\users\\my\\anaconda3\\lib\\site-packages (from pandas<1.5.0,>=0.24.2->ibm_watson_machine_learning) (2022.1)\n",
      "Requirement already satisfied: numpy>=1.18.5 in c:\\users\\my\\anaconda3\\lib\\site-packages (from pandas<1.5.0,>=0.24.2->ibm_watson_machine_learning) (1.21.5)\n",
      "Requirement already satisfied: charset-normalizer<3,>=2 in c:\\users\\my\\anaconda3\\lib\\site-packages (from requests->ibm_watson_machine_learning) (2.0.4)\n",
      "Requirement already satisfied: idna<4,>=2.5 in c:\\users\\my\\anaconda3\\lib\\site-packages (from requests->ibm_watson_machine_learning) (3.3)\n",
      "Requirement already satisfied: zipp>=0.5 in c:\\users\\my\\anaconda3\\lib\\site-packages (from importlib-metadata->ibm_watson_machine_learning) (3.8.0)\n",
      "Requirement already satisfied: six>=1.10.0 in c:\\users\\my\\anaconda3\\lib\\site-packages (from lomond->ibm_watson_machine_learning) (1.16.0)\n",
      "Requirement already satisfied: pyparsing!=3.0.5,>=2.0.2 in c:\\users\\my\\anaconda3\\lib\\site-packages (from packaging->ibm_watson_machine_learning) (3.0.9)\n",
      "Building wheels for collected packages: ibm-cos-sdk, ibm-cos-sdk-core, ibm-cos-sdk-s3transfer\n",
      "  Building wheel for ibm-cos-sdk (setup.py): started\n",
      "  Building wheel for ibm-cos-sdk (setup.py): finished with status 'done'\n",
      "  Created wheel for ibm-cos-sdk: filename=ibm_cos_sdk-2.11.0-py3-none-any.whl size=73641 sha256=cddf9006bfab012a753ad906d37cdff3f4f3a82d90d14d845580fe5935e9f6a6\n",
      "  Stored in directory: c:\\users\\my\\appdata\\local\\pip\\cache\\wheels\\d3\\a5\\34\\52d2e378d3d0446989ebcd214af8bad55beecf905258852b9f\n",
      "  Building wheel for ibm-cos-sdk-core (setup.py): started\n",
      "  Building wheel for ibm-cos-sdk-core (setup.py): finished with status 'done'\n",
      "  Created wheel for ibm-cos-sdk-core: filename=ibm_cos_sdk_core-2.11.0-py3-none-any.whl size=536333 sha256=f384c4d8fca3a31519d309eb87e07b6d1ab36ff627018c6a4d733a2bbd3e7986\n",
      "  Stored in directory: c:\\users\\my\\appdata\\local\\pip\\cache\\wheels\\ed\\a7\\cd\\32a2cf8bae11ba6fc56451b7c46608cfd9176d1da8c6f73fa1\n",
      "  Building wheel for ibm-cos-sdk-s3transfer (setup.py): started\n",
      "  Building wheel for ibm-cos-sdk-s3transfer (setup.py): finished with status 'done'\n",
      "  Created wheel for ibm-cos-sdk-s3transfer: filename=ibm_cos_sdk_s3transfer-2.11.0-py3-none-any.whl size=89471 sha256=991053feb72809df72d03cb2ceed48f3028ed5cc5dfc3051d32983c278c83f52\n",
      "  Stored in directory: c:\\users\\my\\appdata\\local\\pip\\cache\\wheels\\4a\\3f\\7c\\551692188f14bdb095e715dd7f1061fec13b3766d45f3c3296\n",
      "Successfully built ibm-cos-sdk ibm-cos-sdk-core ibm-cos-sdk-s3transfer\n",
      "Installing collected packages: lomond, ibm-cos-sdk-core, ibm-cos-sdk-s3transfer, ibm-cos-sdk, ibm_watson_machine_learning\n",
      "Successfully installed ibm-cos-sdk-2.11.0 ibm-cos-sdk-core-2.11.0 ibm-cos-sdk-s3transfer-2.11.0 ibm_watson_machine_learning-1.0.257 lomond-0.3.3\n"
     ]
    }
   ],
   "source": [
    "!pip install ibm_watson_machine_learning"
   ]
  },
  {
   "cell_type": "code",
   "execution_count": 2,
   "id": "d48adca9",
   "metadata": {},
   "outputs": [],
   "source": [
    "from ibm_watson_machine_learning import APIClient"
   ]
  },
  {
   "cell_type": "code",
   "execution_count": 3,
   "id": "39aae94a",
   "metadata": {},
   "outputs": [],
   "source": [
    "wml_credentials={\n",
    "    \"url\":\"https://eu-de.ml.cloud.ibm.com\",\n",
    "    \"apikey\":\"bzb9Z2uWa4hOsTkF_TvWHg7pHNOE_YRkasUP_iMGxeQa\"\n",
    "}"
   ]
  },
  {
   "cell_type": "code",
   "execution_count": 4,
   "id": "6509ddaa",
   "metadata": {},
   "outputs": [],
   "source": [
    "client = APIClient(wml_credentials)"
   ]
  },
  {
   "cell_type": "code",
   "execution_count": 7,
   "id": "56399522",
   "metadata": {},
   "outputs": [
    {
     "name": "stdout",
     "output_type": "stream",
     "text": [
      "Note: 'limit' is not provided. Only first 50 records will be displayed if the number of records exceed 50\n",
      "------------------------------------  ------  ------------------------\n",
      "ID                                    NAME    CREATED\n",
      "c996c044-2872-4fdf-bf98-e9183a0b5845  forest  2022-11-17T05:18:03.083Z\n",
      "------------------------------------  ------  ------------------------\n"
     ]
    }
   ],
   "source": [
    "client.spaces.list()"
   ]
  },
  {
   "cell_type": "code",
   "execution_count": 8,
   "id": "0dad5a6a",
   "metadata": {},
   "outputs": [],
   "source": [
    "space_id = \"c996c044-2872-4fdf-bf98-e9183a0b5845\""
   ]
  },
  {
   "cell_type": "code",
   "execution_count": 9,
   "id": "ccae5c2d",
   "metadata": {},
   "outputs": [
    {
     "data": {
      "text/plain": [
       "'SUCCESS'"
      ]
     },
     "execution_count": 9,
     "metadata": {},
     "output_type": "execute_result"
    }
   ],
   "source": [
    "client.set.default_space(space_id)"
   ]
  },
  {
   "cell_type": "code",
   "execution_count": 11,
   "id": "34f5d76a",
   "metadata": {},
   "outputs": [],
   "source": [
    "model_id = \"3ceb32be-1520-4590-8992-0fa70d5685af\""
   ]
  },
  {
   "cell_type": "code",
   "execution_count": 13,
   "id": "3ba7035c",
   "metadata": {},
   "outputs": [
    {
     "name": "stdout",
     "output_type": "stream",
     "text": [
      "Successfully saved model content to file: 'realtime.tgz'\n"
     ]
    },
    {
     "data": {
      "text/plain": [
       "'C:\\\\Users\\\\My/realtime.tgz'"
      ]
     },
     "execution_count": 13,
     "metadata": {},
     "output_type": "execute_result"
    }
   ],
   "source": [
    "client.repository.download(model_id,'realtime.tgz')"
   ]
  },
  {
   "cell_type": "code",
   "execution_count": null,
   "id": "43ee6ef2",
   "metadata": {},
   "outputs": [],
   "source": []
  }
 ],
 "metadata": {
  "kernelspec": {
   "display_name": "Python 3 (ipykernel)",
   "language": "python",
   "name": "python3"
  },
  "language_info": {
   "codemirror_mode": {
    "name": "ipython",
    "version": 3
   },
   "file_extension": ".py",
   "mimetype": "text/x-python",
   "name": "python",
   "nbconvert_exporter": "python",
   "pygments_lexer": "ipython3",
   "version": "3.9.13"
  }
 },
 "nbformat": 4,
 "nbformat_minor": 5
}
